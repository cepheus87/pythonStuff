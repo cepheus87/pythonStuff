{
 "cells": [
  {
   "cell_type": "code",
   "execution_count": 1,
   "metadata": {},
   "outputs": [
    {
     "name": "stderr",
     "output_type": "stream",
     "text": [
      "/home/tomasz/anaconda3/lib/python3.6/site-packages/h5py/__init__.py:36: FutureWarning: Conversion of the second argument of issubdtype from `float` to `np.floating` is deprecated. In future, it will be treated as `np.float64 == np.dtype(float).type`.\n",
      "  from ._conv import register_converters as _register_converters\n"
     ]
    }
   ],
   "source": [
    "import numpy as np\n",
    "\n",
    "import tensorflow as tf\n",
    "import tensorflow.keras as keras\n",
    "\n",
    "from tensorflow.keras import layers\n",
    "from tensorflow.keras import optimizers\n",
    "\n",
    "from tensorflow.keras.models import Sequential, Model\n",
    "from tensorflow.keras.layers import Dense, Dropout, Activation, Input, LSTM"
   ]
  },
  {
   "cell_type": "markdown",
   "metadata": {},
   "source": [
    "\n",
    "There are two types of models in keras. Sequential an Functional. Sequential is only one direction of computing (create layers in sequence), alternative is Functional. Functional models are defined by creating instances of layers and connecting them directly to each other in pairs, and then defining a Model that specifies the layers to act as the input and output to the model, via the parameters inputs and outputs, respectively.\n"
   ]
  },
  {
   "cell_type": "code",
   "execution_count": null,
   "metadata": {},
   "outputs": [],
   "source": [
    "## print all layers\n",
    "# [layer for layer in dir(layers) if not layer.startswith('_')]"
   ]
  },
  {
   "cell_type": "code",
   "execution_count": null,
   "metadata": {},
   "outputs": [],
   "source": [
    "## print all optimizers\n",
    "# [opt for opt in dir(optimizers) if not opt.startswith('_')]"
   ]
  },
  {
   "cell_type": "markdown",
   "metadata": {},
   "source": [
    "## Sequential"
   ]
  },
  {
   "cell_type": "markdown",
   "metadata": {},
   "source": [
    "First initialize the model with the sequential API. Example: https://www.tensorflow.org/guide/keras"
   ]
  },
  {
   "cell_type": "code",
   "execution_count": 2,
   "metadata": {},
   "outputs": [],
   "source": [
    "model = Sequential(name='DummyModel')"
   ]
  },
  {
   "cell_type": "markdown",
   "metadata": {},
   "source": [
    "we can immidiatelly add hidden layers using model.add()"
   ]
  },
  {
   "cell_type": "code",
   "execution_count": 12,
   "metadata": {},
   "outputs": [
    {
     "name": "stdout",
     "output_type": "stream",
     "text": [
      "Help on method add in module tensorflow.python.keras.engine.sequential:\n",
      "\n",
      "add(layer) method of tensorflow.python.keras.engine.sequential.Sequential instance\n",
      "    Adds a layer instance on top of the layer stack.\n",
      "    \n",
      "    Arguments:\n",
      "        layer: layer instance.\n",
      "    \n",
      "    Raises:\n",
      "        TypeError: If `layer` is not a layer instance.\n",
      "        ValueError: In case the `layer` argument does not\n",
      "            know its input shape.\n",
      "        ValueError: In case the `layer` argument has\n",
      "            multiple output tensors, or is already connected\n",
      "            somewhere else (forbidden in `Sequential` models).\n",
      "\n"
     ]
    }
   ],
   "source": [
    "help(model.add)"
   ]
  },
  {
   "cell_type": "code",
   "execution_count": null,
   "metadata": {},
   "outputs": [],
   "source": [
    "# help(layers.Dense)"
   ]
  },
  {
   "cell_type": "markdown",
   "metadata": {},
   "source": [
    "create the firts hidden layer of 3 nodes"
   ]
  },
  {
   "cell_type": "code",
   "execution_count": 3,
   "metadata": {},
   "outputs": [],
   "source": [
    "model.add(layers.Dense(name='FullyConnected_1', units=3, activation='relu', input_dim=2))  # dim == 2 -> two imputs nodes and 3 units (nodes)"
   ]
  },
  {
   "cell_type": "markdown",
   "metadata": {},
   "source": [
    "you can skip input_dim (like below) then it will be determined from the data given to model. Safer is to give it explicitly (less error prone). In previous version it raises ValueError"
   ]
  },
  {
   "cell_type": "code",
   "execution_count": 9,
   "metadata": {},
   "outputs": [],
   "source": [
    "# model.add(layers.Dense(name='FullyConnected_1', units=3, activation='relu'))"
   ]
  },
  {
   "cell_type": "markdown",
   "metadata": {},
   "source": [
    "Parameters: 2*3 weights + 3 bias"
   ]
  },
  {
   "cell_type": "code",
   "execution_count": 4,
   "metadata": {},
   "outputs": [
    {
     "name": "stdout",
     "output_type": "stream",
     "text": [
      "_________________________________________________________________\n",
      "Layer (type)                 Output Shape              Param #   \n",
      "=================================================================\n",
      "FullyConnected_1 (Dense)     (None, 3)                 9         \n",
      "=================================================================\n",
      "Total params: 9\n",
      "Trainable params: 9\n",
      "Non-trainable params: 0\n",
      "_________________________________________________________________\n"
     ]
    }
   ],
   "source": [
    "model.summary()"
   ]
  },
  {
   "cell_type": "markdown",
   "metadata": {},
   "source": [
    "you can define layers explicitly (activation as a separate layer)"
   ]
  },
  {
   "cell_type": "code",
   "execution_count": 5,
   "metadata": {},
   "outputs": [
    {
     "name": "stdout",
     "output_type": "stream",
     "text": [
      "_________________________________________________________________\n",
      "Layer (type)                 Output Shape              Param #   \n",
      "=================================================================\n",
      "FullyConnected_1 (Dense)     (None, 3)                 9         \n",
      "_________________________________________________________________\n",
      "OutputLayer_2 (Dense)        (None, 1)                 4         \n",
      "_________________________________________________________________\n",
      "Sigmoid_2 (Activation)       (None, 1)                 0         \n",
      "_________________________________________________________________\n",
      "dropout (Dropout)            (None, 1)                 0         \n",
      "=================================================================\n",
      "Total params: 13\n",
      "Trainable params: 13\n",
      "Non-trainable params: 0\n",
      "_________________________________________________________________\n"
     ]
    }
   ],
   "source": [
    "# output layer\n",
    "model.add(layers.Dense(name='OutputLayer_2', units=1))\n",
    "model.add(layers.Activation(name='Sigmoid_2', activation='sigmoid'))\n",
    "model.add(Dropout(0.2))\n",
    "model.summary()"
   ]
  },
  {
   "cell_type": "code",
   "execution_count": 10,
   "metadata": {},
   "outputs": [],
   "source": [
    "# model:\n",
    "\n",
    "#   * \\\n",
    "#   * - * - * (activation) - * (dropout)\n",
    "#   * /"
   ]
  },
  {
   "cell_type": "markdown",
   "metadata": {},
   "source": [
    "After crating model it must be compiled"
   ]
  },
  {
   "cell_type": "code",
   "execution_count": 6,
   "metadata": {},
   "outputs": [],
   "source": [
    "model.compile(\n",
    "    optimizer='Adam',\n",
    "    loss='binary_crossentropy', # binary classification\n",
    "    metrics=['accuracy']\n",
    ")\n",
    "\n",
    "# example of usage\n",
    "\n",
    "# summary = model.fit(\n",
    "#     X_train, y_train,\n",
    "#     batch_size=100,\n",
    "#     epochs=10,\n",
    "#     validation_split=0.1,\n",
    "#     verbose=1,  # silent mode: 0\n",
    "#     callbacks=[func1, func2]  # functions called by callback during learning\n",
    "# )"
   ]
  },
  {
   "cell_type": "markdown",
   "metadata": {},
   "source": [
    "If you really want the complete picture, check the configuration."
   ]
  },
  {
   "cell_type": "code",
   "execution_count": 7,
   "metadata": {},
   "outputs": [
    {
     "data": {
      "text/plain": [
       "[{'class_name': 'Dense',\n",
       "  'config': {'activation': 'relu',\n",
       "   'activity_regularizer': None,\n",
       "   'batch_input_shape': (None, 2),\n",
       "   'bias_constraint': None,\n",
       "   'bias_initializer': {'class_name': 'Zeros', 'config': {'dtype': 'float32'}},\n",
       "   'bias_regularizer': None,\n",
       "   'dtype': 'float32',\n",
       "   'kernel_constraint': None,\n",
       "   'kernel_initializer': {'class_name': 'VarianceScaling',\n",
       "    'config': {'distribution': 'uniform',\n",
       "     'dtype': 'float32',\n",
       "     'mode': 'fan_avg',\n",
       "     'scale': 1.0,\n",
       "     'seed': None}},\n",
       "   'kernel_regularizer': None,\n",
       "   'name': 'FullyConnected_1',\n",
       "   'trainable': True,\n",
       "   'units': 3,\n",
       "   'use_bias': True}},\n",
       " {'class_name': 'Dense',\n",
       "  'config': {'activation': 'linear',\n",
       "   'activity_regularizer': None,\n",
       "   'bias_constraint': None,\n",
       "   'bias_initializer': {'class_name': 'Zeros', 'config': {'dtype': 'float32'}},\n",
       "   'bias_regularizer': None,\n",
       "   'dtype': 'float32',\n",
       "   'kernel_constraint': None,\n",
       "   'kernel_initializer': {'class_name': 'VarianceScaling',\n",
       "    'config': {'distribution': 'uniform',\n",
       "     'dtype': 'float32',\n",
       "     'mode': 'fan_avg',\n",
       "     'scale': 1.0,\n",
       "     'seed': None}},\n",
       "   'kernel_regularizer': None,\n",
       "   'name': 'OutputLayer_2',\n",
       "   'trainable': True,\n",
       "   'units': 1,\n",
       "   'use_bias': True}},\n",
       " {'class_name': 'Activation',\n",
       "  'config': {'activation': 'sigmoid',\n",
       "   'dtype': 'float32',\n",
       "   'name': 'Sigmoid_2',\n",
       "   'trainable': True}},\n",
       " {'class_name': 'Dropout',\n",
       "  'config': {'dtype': 'float32',\n",
       "   'name': 'dropout',\n",
       "   'noise_shape': None,\n",
       "   'rate': 0.2,\n",
       "   'seed': None,\n",
       "   'trainable': True}}]"
      ]
     },
     "execution_count": 7,
     "metadata": {},
     "output_type": "execute_result"
    }
   ],
   "source": [
    "model.get_config()"
   ]
  },
  {
   "cell_type": "markdown",
   "metadata": {},
   "source": [
    "## Functional\n",
    "Alternative is functional API"
   ]
  },
  {
   "cell_type": "code",
   "execution_count": 15,
   "metadata": {},
   "outputs": [],
   "source": [
    "# hidden_3_lstm = LSTM(units=3, dropout=0.1, return_sequences=True)(hidden_2_dense)"
   ]
  },
  {
   "cell_type": "code",
   "execution_count": null,
   "metadata": {},
   "outputs": [],
   "source": [
    "# example from: https://www.tensorflow.org/api_docs/python/tf/keras/Model\n",
    "\n",
    "# import tensorflow as tf\n",
    "\n",
    "# inputs = tf.keras.Input(shape=(3,))\n",
    "# x = tf.keras.layers.Dense(4, activation=tf.nn.relu)(inputs)\n",
    "# outputs = tf.keras.layers.Dense(5, activation=tf.nn.softmax)(x)\n",
    "# model = tf.keras.Model(inputs=inputs, outputs=outputs"
   ]
  },
  {
   "cell_type": "code",
   "execution_count": 2,
   "metadata": {},
   "outputs": [
    {
     "name": "stdout",
     "output_type": "stream",
     "text": [
      "_________________________________________________________________\n",
      "Layer (type)                 Output Shape              Param #   \n",
      "=================================================================\n",
      "Input_1 (InputLayer)         (None, 3)                 0         \n",
      "_________________________________________________________________\n",
      "FullyConnected_2 (Dense)     (None, 3)                 12        \n",
      "_________________________________________________________________\n",
      "Normalization_2 (BatchNormal (None, 3)                 12        \n",
      "_________________________________________________________________\n",
      "ReLU_2 (Activation)          (None, 3)                 0         \n",
      "=================================================================\n",
      "Total params: 24\n",
      "Trainable params: 18\n",
      "Non-trainable params: 6\n",
      "_________________________________________________________________\n"
     ]
    }
   ],
   "source": [
    "input_1 = Input(name=\"Input_1\", shape=(3,)) # the expected input will be batches of 3-dimensional vectors.\n",
    "\n",
    "hidden_2_dense = Dense(name=\"FullyConnected_2\", units=3)(input_1)\n",
    "hidden_2_norm = layers.BatchNormalization(name=\"Normalization_2\")(hidden_2_dense)  # normalization of each layer and feature independently \n",
    "hidden_2_activ = Activation(name='ReLU_2', activation='relu')(hidden_2_norm)\n",
    "\n",
    "model2 = Model(inputs=input_1, outputs=hidden_2_activ)\n",
    "model2.summary()"
   ]
  },
  {
   "cell_type": "markdown",
   "metadata": {},
   "source": [
    "## Save model"
   ]
  },
  {
   "cell_type": "markdown",
   "metadata": {},
   "source": [
    "maybe needed (Debian): sudo apt-get install libhdf5-serial-dev"
   ]
  },
  {
   "cell_type": "code",
   "execution_count": 4,
   "metadata": {},
   "outputs": [],
   "source": [
    "model2.compile(\n",
    "    optimizer='Adam',\n",
    "    loss='binary_crossentropy', # binary classification\n",
    "    metrics=['accuracy']\n",
    ")"
   ]
  },
  {
   "cell_type": "code",
   "execution_count": 5,
   "metadata": {},
   "outputs": [],
   "source": [
    "model2.save(\"my_model.h5\") # save all"
   ]
  },
  {
   "cell_type": "code",
   "execution_count": 8,
   "metadata": {},
   "outputs": [
    {
     "name": "stdout",
     "output_type": "stream",
     "text": [
      "_________________________________________________________________\n",
      "Layer (type)                 Output Shape              Param #   \n",
      "=================================================================\n",
      "Input_1 (InputLayer)         (None, 3)                 0         \n",
      "_________________________________________________________________\n",
      "FullyConnected_2 (Dense)     (None, 3)                 12        \n",
      "_________________________________________________________________\n",
      "Normalization_2 (BatchNormal (None, 3)                 12        \n",
      "_________________________________________________________________\n",
      "ReLU_2 (Activation)          (None, 3)                 0         \n",
      "=================================================================\n",
      "Total params: 24\n",
      "Trainable params: 18\n",
      "Non-trainable params: 6\n",
      "_________________________________________________________________\n"
     ]
    }
   ],
   "source": [
    "model3 = tf.keras.models.load_model(\"my_model.h5\")\n",
    "model3.summary()"
   ]
  },
  {
   "cell_type": "markdown",
   "metadata": {},
   "source": [
    "save only architecture, and not its weights or its training configuration"
   ]
  },
  {
   "cell_type": "code",
   "execution_count": null,
   "metadata": {},
   "outputs": [],
   "source": [
    "# save as JSON\n",
    "json_string = model.to_json()\n",
    "# save as YAML\n",
    "yaml_string = model.to_yaml()\n",
    "\n",
    "# model reconstruction from JSON:\n",
    "model = tf.keras.models.model_from_json(json_string)\n",
    "# model reconstruction from YAML\n",
    "model = tf.keras.models.model_from_yaml(yaml_string)"
   ]
  },
  {
   "cell_type": "markdown",
   "metadata": {},
   "source": [
    "save weights of a model"
   ]
  },
  {
   "cell_type": "code",
   "execution_count": null,
   "metadata": {},
   "outputs": [],
   "source": [
    "model.save_weights('my_model_weights.h5')\n",
    "model.load_weights('my_model_weights.h5')"
   ]
  },
  {
   "cell_type": "markdown",
   "metadata": {},
   "source": [
    "If you need to load weights into a different architecture (with some layers in common), for instance for fine-tuning or transfer-learning, you can load weights by layer name:"
   ]
  },
  {
   "cell_type": "code",
   "execution_count": null,
   "metadata": {},
   "outputs": [],
   "source": [
    "model.load_weights('my_model_weights.h5', by_name=True)"
   ]
  }
 ],
 "metadata": {
  "kernelspec": {
   "display_name": "py3.6_tf",
   "language": "python",
   "name": "py3.6_tf"
  },
  "language_info": {
   "codemirror_mode": {
    "name": "ipython",
    "version": 3
   },
   "file_extension": ".py",
   "mimetype": "text/x-python",
   "name": "python",
   "nbconvert_exporter": "python",
   "pygments_lexer": "ipython3",
   "version": "3.6.4"
  }
 },
 "nbformat": 4,
 "nbformat_minor": 2
}
