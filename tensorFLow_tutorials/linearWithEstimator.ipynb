{
 "cells": [
  {
   "cell_type": "code",
   "execution_count": 1,
   "metadata": {},
   "outputs": [
    {
     "name": "stderr",
     "output_type": "stream",
     "text": [
      "/home/tomasz_bednarski/anaconda3/envs/tensorflow/lib/python3.6/importlib/_bootstrap.py:219: RuntimeWarning: compiletime version 3.5 of module 'tensorflow.python.framework.fast_tensor_util' does not match runtime version 3.6\n",
      "  return f(*args, **kwds)\n"
     ]
    }
   ],
   "source": [
    "import numpy as np\n",
    "import tensorflow as tf"
   ]
  },
  {
   "cell_type": "code",
   "execution_count": 2,
   "metadata": {
    "collapsed": true
   },
   "outputs": [],
   "source": [
    "# Declare list of features. We only have one numeric feature. There are many\n",
    "# other types of columns that are more complicated and useful.\n",
    "feature_columns = [tf.feature_column.numeric_column(\"x\", shape=[1])]\n"
   ]
  },
  {
   "cell_type": "code",
   "execution_count": 3,
   "metadata": {},
   "outputs": [
    {
     "name": "stdout",
     "output_type": "stream",
     "text": [
      "INFO:tensorflow:Using default config.\n",
      "WARNING:tensorflow:Using temporary folder as model directory: /tmp/tmpak7fczbc\n",
      "INFO:tensorflow:Using config: {'_model_dir': '/tmp/tmpak7fczbc', '_tf_random_seed': None, '_save_summary_steps': 100, '_save_checkpoints_steps': None, '_save_checkpoints_secs': 600, '_session_config': None, '_keep_checkpoint_max': 5, '_keep_checkpoint_every_n_hours': 10000, '_log_step_count_steps': 100, '_service': None, '_cluster_spec': <tensorflow.python.training.server_lib.ClusterSpec object at 0x7f9f51c439b0>, '_task_type': 'worker', '_task_id': 0, '_master': '', '_is_chief': True, '_num_ps_replicas': 0, '_num_worker_replicas': 1}\n"
     ]
    }
   ],
   "source": [
    "# An estimator is the front end to invoke training (fitting) and evaluation\n",
    "# (inference). There are many predefined types like linear regression,\n",
    "# linear classification, and many neural network classifiers and regressors.\n",
    "# The following code provides an estimator that does linear regression.\n",
    "estimator = tf.estimator.LinearRegressor(feature_columns=feature_columns)\n"
   ]
  },
  {
   "cell_type": "code",
   "execution_count": 4,
   "metadata": {
    "collapsed": true
   },
   "outputs": [],
   "source": [
    "# Here we use two data sets: one for training and one for evaluation\n",
    "# We have to tell the function how many batches\n",
    "# of data (num_epochs) we want and how big each batch should be.\n",
    "x_train = np.array([1., 2., 3., 4.])\n",
    "y_train = np.array([0., -1., -2., -3.])\n",
    "x_eval = np.array([2., 5., 8., 1.])\n",
    "y_eval = np.array([-1.01, -4.1, -7, 0.])\n",
    "\n",
    "input_fn = tf.estimator.inputs.numpy_input_fn(\n",
    "    {\"x\": x_train}, y_train, batch_size=4, num_epochs=None, shuffle=True)\n",
    "train_input_fn = tf.estimator.inputs.numpy_input_fn(\n",
    "    {\"x\": x_train}, y_train, batch_size=4, num_epochs=1000, shuffle=False)\n",
    "eval_input_fn = tf.estimator.inputs.numpy_input_fn(\n",
    "    {\"x\": x_eval}, y_eval, batch_size=4, num_epochs=1000, shuffle=False)\n"
   ]
  },
  {
   "cell_type": "code",
   "execution_count": 5,
   "metadata": {},
   "outputs": [
    {
     "name": "stdout",
     "output_type": "stream",
     "text": [
      "INFO:tensorflow:Create CheckpointSaverHook.\n",
      "INFO:tensorflow:Saving checkpoints for 1 into /tmp/tmpak7fczbc/model.ckpt.\n",
      "INFO:tensorflow:loss = 13.0, step = 1\n",
      "INFO:tensorflow:global_step/sec: 1389.27\n",
      "INFO:tensorflow:loss = 3.99906e-05, step = 101 (0.072 sec)\n",
      "INFO:tensorflow:global_step/sec: 1833.7\n",
      "INFO:tensorflow:loss = 0.0535407, step = 201 (0.054 sec)\n",
      "INFO:tensorflow:global_step/sec: 1736.08\n",
      "INFO:tensorflow:loss = 0.0170159, step = 301 (0.058 sec)\n",
      "INFO:tensorflow:global_step/sec: 2033.27\n",
      "INFO:tensorflow:loss = 0.00626356, step = 401 (0.049 sec)\n",
      "INFO:tensorflow:global_step/sec: 1903.68\n",
      "INFO:tensorflow:loss = 0.00082317, step = 501 (0.053 sec)\n",
      "INFO:tensorflow:global_step/sec: 1839.7\n",
      "INFO:tensorflow:loss = 0.00012139, step = 601 (0.054 sec)\n",
      "INFO:tensorflow:global_step/sec: 1806.01\n",
      "INFO:tensorflow:loss = 4.46632e-05, step = 701 (0.055 sec)\n",
      "INFO:tensorflow:global_step/sec: 1951.16\n",
      "INFO:tensorflow:loss = 7.5814e-06, step = 801 (0.051 sec)\n",
      "INFO:tensorflow:global_step/sec: 2160.99\n",
      "INFO:tensorflow:loss = 5.70476e-06, step = 901 (0.047 sec)\n",
      "INFO:tensorflow:Saving checkpoints for 1000 into /tmp/tmpak7fczbc/model.ckpt.\n",
      "INFO:tensorflow:Loss for final step: 1.55452e-06.\n"
     ]
    },
    {
     "data": {
      "text/plain": [
       "<tensorflow.python.estimator.canned.linear.LinearRegressor at 0x7f9f4ca0e4a8>"
      ]
     },
     "execution_count": 5,
     "metadata": {},
     "output_type": "execute_result"
    }
   ],
   "source": [
    "# We can invoke 1000 training steps by invoking the  method and passing the\n",
    "# training data set.\n",
    "estimator.train(input_fn=input_fn, steps=1000)\n"
   ]
  },
  {
   "cell_type": "code",
   "execution_count": 6,
   "metadata": {},
   "outputs": [
    {
     "name": "stdout",
     "output_type": "stream",
     "text": [
      "INFO:tensorflow:Starting evaluation at 2018-01-21-18:44:53\n",
      "INFO:tensorflow:Restoring parameters from /tmp/tmpak7fczbc/model.ckpt-1000\n",
      "INFO:tensorflow:Finished evaluation at 2018-01-21-18:44:53\n",
      "INFO:tensorflow:Saving dict for global step 1000: average_loss = 3.80467e-07, global_step = 1000, loss = 1.52187e-06\n",
      "INFO:tensorflow:Starting evaluation at 2018-01-21-18:44:53\n",
      "INFO:tensorflow:Restoring parameters from /tmp/tmpak7fczbc/model.ckpt-1000\n",
      "INFO:tensorflow:Finished evaluation at 2018-01-21-18:44:54\n",
      "INFO:tensorflow:Saving dict for global step 1000: average_loss = 0.00256357, global_step = 1000, loss = 0.0102543\n",
      "train metrics: {'average_loss': 3.8046721e-07, 'loss': 1.5218689e-06, 'global_step': 1000}\n",
      "eval metrics: {'average_loss': 0.0025635695, 'loss': 0.010254278, 'global_step': 1000}\n"
     ]
    }
   ],
   "source": [
    "# Here we evaluate how well our model did.\n",
    "train_metrics = estimator.evaluate(input_fn=train_input_fn)\n",
    "eval_metrics = estimator.evaluate(input_fn=eval_input_fn)\n",
    "print(\"train metrics: %r\"% train_metrics)\n",
    "print(\"eval metrics: %r\"% eval_metrics)\n"
   ]
  },
  {
   "cell_type": "markdown",
   "metadata": {},
   "source": [
    "CUSTOM MODEL"
   ]
  },
  {
   "cell_type": "code",
   "execution_count": 7,
   "metadata": {
    "collapsed": true
   },
   "outputs": [],
   "source": [
    "# Declare list of features, we only have one real-valued feature\n",
    "def model_fn(features, labels, mode):\n",
    "  # Build a linear model and predict values\n",
    "  W = tf.get_variable(\"W\", [1], dtype=tf.float64)   # name, shape\n",
    "  b = tf.get_variable(\"b\", [1], dtype=tf.float64)\n",
    "  y = W*features['x'] + b\n",
    "  # Loss sub-graph\n",
    "  loss = tf.reduce_sum(tf.square(y - labels))\n",
    "  # Training sub-graph\n",
    "  global_step = tf.train.get_global_step()\n",
    "  optimizer = tf.train.GradientDescentOptimizer(0.01)\n",
    "  train = tf.group(optimizer.minimize(loss),\n",
    "                   tf.assign_add(global_step, 1))\n",
    "  # EstimatorSpec connects subgraphs we built to the\n",
    "  # appropriate functionality.\n",
    "  return tf.estimator.EstimatorSpec(\n",
    "      mode=mode,\n",
    "      predictions=y,\n",
    "      loss=loss,\n",
    "      train_op=train)\n"
   ]
  },
  {
   "cell_type": "code",
   "execution_count": 8,
   "metadata": {},
   "outputs": [
    {
     "name": "stdout",
     "output_type": "stream",
     "text": [
      "INFO:tensorflow:Using default config.\n",
      "WARNING:tensorflow:Using temporary folder as model directory: /tmp/tmp_8e5igkd\n",
      "INFO:tensorflow:Using config: {'_model_dir': '/tmp/tmp_8e5igkd', '_tf_random_seed': None, '_save_summary_steps': 100, '_save_checkpoints_steps': None, '_save_checkpoints_secs': 600, '_session_config': None, '_keep_checkpoint_max': 5, '_keep_checkpoint_every_n_hours': 10000, '_log_step_count_steps': 100, '_service': None, '_cluster_spec': <tensorflow.python.training.server_lib.ClusterSpec object at 0x7f9f2c451e80>, '_task_type': 'worker', '_task_id': 0, '_master': '', '_is_chief': True, '_num_ps_replicas': 0, '_num_worker_replicas': 1}\n"
     ]
    }
   ],
   "source": [
    "estimator = tf.estimator.Estimator(model_fn=model_fn)\n"
   ]
  },
  {
   "cell_type": "code",
   "execution_count": 9,
   "metadata": {
    "collapsed": true
   },
   "outputs": [],
   "source": [
    "# define our data sets\n",
    "x_train = np.array([1., 2., 3., 4.])\n",
    "y_train = np.array([0., -1., -2., -3.])\n",
    "x_eval = np.array([2., 5., 8., 1.])\n",
    "y_eval = np.array([-1.01, -4.1, -7., 0.])\n",
    "input_fn = tf.estimator.inputs.numpy_input_fn(\n",
    "    {\"x\": x_train}, y_train, batch_size=4, num_epochs=None, shuffle=True)\n",
    "train_input_fn = tf.estimator.inputs.numpy_input_fn(\n",
    "    {\"x\": x_train}, y_train, batch_size=4, num_epochs=1000, shuffle=False)\n",
    "eval_input_fn = tf.estimator.inputs.numpy_input_fn(\n",
    "    {\"x\": x_eval}, y_eval, batch_size=4, num_epochs=1000, shuffle=False)\n"
   ]
  },
  {
   "cell_type": "code",
   "execution_count": 15,
   "metadata": {},
   "outputs": [
    {
     "name": "stdout",
     "output_type": "stream",
     "text": [
      "(4,)\n",
      "1\n"
     ]
    }
   ],
   "source": [
    "print(x_train.shape)\n",
    "print(x_train.ndim)"
   ]
  },
  {
   "cell_type": "code",
   "execution_count": 16,
   "metadata": {},
   "outputs": [
    {
     "name": "stdout",
     "output_type": "stream",
     "text": [
      "INFO:tensorflow:Create CheckpointSaverHook.\n",
      "INFO:tensorflow:Saving checkpoints for 1 into /tmp/tmp_8e5igkd/model.ckpt.\n",
      "INFO:tensorflow:loss = 3.66861650092, step = 1\n",
      "INFO:tensorflow:global_step/sec: 1852.48\n",
      "INFO:tensorflow:loss = 0.343834366167, step = 101 (0.054 sec)\n",
      "INFO:tensorflow:global_step/sec: 2154.28\n",
      "INFO:tensorflow:loss = 0.0174650282782, step = 201 (0.047 sec)\n",
      "INFO:tensorflow:global_step/sec: 2316.04\n",
      "INFO:tensorflow:loss = 0.00492254992326, step = 301 (0.043 sec)\n",
      "INFO:tensorflow:global_step/sec: 2338.65\n",
      "INFO:tensorflow:loss = 0.000281899493742, step = 401 (0.043 sec)\n",
      "INFO:tensorflow:global_step/sec: 2160.76\n",
      "INFO:tensorflow:loss = 1.22716942205e-05, step = 501 (0.046 sec)\n",
      "INFO:tensorflow:global_step/sec: 2170.75\n",
      "INFO:tensorflow:loss = 3.16442159285e-06, step = 601 (0.046 sec)\n",
      "INFO:tensorflow:global_step/sec: 2212.27\n",
      "INFO:tensorflow:loss = 5.54746257452e-08, step = 701 (0.045 sec)\n",
      "INFO:tensorflow:global_step/sec: 2276.65\n",
      "INFO:tensorflow:loss = 2.63403354028e-08, step = 801 (0.044 sec)\n",
      "INFO:tensorflow:global_step/sec: 2405.31\n",
      "INFO:tensorflow:loss = 2.28223095256e-09, step = 901 (0.042 sec)\n",
      "INFO:tensorflow:Saving checkpoints for 1000 into /tmp/tmp_8e5igkd/model.ckpt.\n",
      "INFO:tensorflow:Loss for final step: 2.3409789034e-10.\n"
     ]
    },
    {
     "data": {
      "text/plain": [
       "<tensorflow.python.estimator.estimator.Estimator at 0x7f9f4ca0eac8>"
      ]
     },
     "execution_count": 16,
     "metadata": {},
     "output_type": "execute_result"
    }
   ],
   "source": [
    "# train\n",
    "estimator.train(input_fn=input_fn, steps=1000)\n"
   ]
  },
  {
   "cell_type": "code",
   "execution_count": 17,
   "metadata": {},
   "outputs": [
    {
     "name": "stdout",
     "output_type": "stream",
     "text": [
      "INFO:tensorflow:Starting evaluation at 2018-01-21-19:06:07\n",
      "INFO:tensorflow:Restoring parameters from /tmp/tmp_8e5igkd/model.ckpt-1000\n",
      "INFO:tensorflow:Finished evaluation at 2018-01-21-19:06:08\n",
      "INFO:tensorflow:Saving dict for global step 1000: global_step = 1000, loss = 1.26936e-10\n",
      "INFO:tensorflow:Starting evaluation at 2018-01-21-19:06:08\n",
      "INFO:tensorflow:Restoring parameters from /tmp/tmp_8e5igkd/model.ckpt-1000\n",
      "INFO:tensorflow:Finished evaluation at 2018-01-21-19:06:08\n",
      "INFO:tensorflow:Saving dict for global step 1000: global_step = 1000, loss = 0.0101023\n",
      "train metrics: {'loss': 1.2693648e-10, 'global_step': 1000}\n",
      "eval metrics: {'loss': 0.010102345, 'global_step': 1000}\n"
     ]
    }
   ],
   "source": [
    "# Here we evaluate how well our model did.\n",
    "train_metrics = estimator.evaluate(input_fn=train_input_fn)\n",
    "eval_metrics = estimator.evaluate(input_fn=eval_input_fn)\n",
    "print(\"train metrics: %r\"% train_metrics)\n",
    "print(\"eval metrics: %r\"% eval_metrics)\n"
   ]
  }
 ],
 "metadata": {
  "kernelspec": {
   "display_name": "Python (tensorflow)",
   "language": "python",
   "name": "tensorflow"
  },
  "language_info": {
   "codemirror_mode": {
    "name": "ipython",
    "version": 3
   },
   "file_extension": ".py",
   "mimetype": "text/x-python",
   "name": "python",
   "nbconvert_exporter": "python",
   "pygments_lexer": "ipython3",
   "version": "3.6.4"
  }
 },
 "nbformat": 4,
 "nbformat_minor": 2
}
