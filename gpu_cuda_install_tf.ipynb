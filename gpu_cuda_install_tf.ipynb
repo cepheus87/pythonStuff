{
 "cells": [
  {
   "cell_type": "markdown",
   "metadata": {},
   "source": [
    "### Install cuda on Ubunu 16.04 instructions"
   ]
  },
  {
   "cell_type": "markdown",
   "metadata": {},
   "source": [
    "If you have previous versions (optional):\n",
    "\n",
    "sudo apt-get purge cuda\n",
    "sudo apt-get purge libcudnn6\n",
    "sudo apt-get purge libcudnn6-dev\n",
    "\n",
    "Install:\n",
    "\n",
    "To download:\n",
    "wget http://developer.download.nvidia.com/compute/cuda/repos/ubuntu1604/x86_64/cu\\\n",
    "da-repo-ubuntu1604_9.0.176-1_amd64.deb\n",
    "\n",
    "* sudo dpkg -i cuda-repo-ubuntu1604_9.0.176-1_amd64.deb\n",
    "* sudo apt-get update\n",
    "* sudo apt-get install cuda=9.0.176-1\n",
    "\n",
    "downloaded from nvidia page\n",
    "https://docs.nvidia.com/deeplearning/sdk/cudnn-install/index.html#download\n",
    "\n",
    "(alternative: wget http://developer.download.nvidia.com/compute/machine-learning/repos/ubuntu1604/x86_64/AND_HERE_FILE_NAME_FROM_BELOW)\n",
    "\n",
    "* sudo dpkg -i libcudnn7_7.2.1.38-1+cuda9.0_amd64.deb\n",
    "* sudo dpkg -i libcudnn7-dev_7.2.1.38-1+cuda9.0_amd64.deb\n",
    "* sudo dpkg -i libcudnn7-doc_7.2.1.38-1+cuda9.0_amd64.deb\n",
    "\n",
    "also perform verifying steps from nvidia page"
   ]
  },
  {
   "cell_type": "markdown",
   "metadata": {},
   "source": [
    "Notebook to test GPU using with tensorflow"
   ]
  },
  {
   "cell_type": "code",
   "execution_count": 1,
   "metadata": {},
   "outputs": [
    {
     "name": "stderr",
     "output_type": "stream",
     "text": [
      "/home/tomasz/anaconda3/lib/python3.6/site-packages/h5py/__init__.py:36: FutureWarning: Conversion of the second argument of issubdtype from `float` to `np.floating` is deprecated. In future, it will be treated as `np.float64 == np.dtype(float).type`.\n",
      "  from ._conv import register_converters as _register_converters\n"
     ]
    }
   ],
   "source": [
    "import tensorflow as tf"
   ]
  },
  {
   "cell_type": "code",
   "execution_count": 2,
   "metadata": {},
   "outputs": [
    {
     "data": {
      "text/plain": [
       "'1.9.0'"
      ]
     },
     "execution_count": 2,
     "metadata": {},
     "output_type": "execute_result"
    }
   ],
   "source": [
    "tf.__version__"
   ]
  },
  {
   "cell_type": "code",
   "execution_count": 3,
   "metadata": {},
   "outputs": [
    {
     "name": "stdout",
     "output_type": "stream",
     "text": [
      "[[22. 28.]\n",
      " [49. 64.]]\n"
     ]
    }
   ],
   "source": [
    "# Creates a graph.\n",
    "a = tf.constant([1.0, 2.0, 3.0, 4.0, 5.0, 6.0], shape=[2, 3], name='a')\n",
    "b = tf.constant([1.0, 2.0, 3.0, 4.0, 5.0, 6.0], shape=[3, 2], name='b')\n",
    "c = tf.matmul(a, b)\n",
    "# Creates a session with log_device_placement set to True.\n",
    "sess = tf.Session(config=tf.ConfigProto(log_device_placement=True))\n",
    "# Runs the op.\n",
    "print(sess.run(c))\n"
   ]
  },
  {
   "cell_type": "code",
   "execution_count": null,
   "metadata": {},
   "outputs": [],
   "source": [
    "console output:\n",
    "\n",
    "2018-08-10 08:04:42.990509: I tensorflow/core/platform/cpu_feature_guard.cc:141] Your CPU supports instructions that this TensorFlow binary was not compiled to use: AVX2 FMA\n",
    "2018-08-10 08:04:43.128870: I tensorflow/stream_executor/cuda/cuda_gpu_executor.cc:897] successful NUMA node read from SysFS had negative value (-1), but there must be at least one NUMA node, so returning NUMA node zero\n",
    "2018-08-10 08:04:43.129466: I tensorflow/core/common_runtime/gpu/gpu_device.cc:1392] Found device 0 with properties: \n",
    "name: GeForce GT 1030 major: 6 minor: 1 memoryClockRate(GHz): 1.5185\n",
    "pciBusID: 0000:09:00.0\n",
    "totalMemory: 1.95GiB freeMemory: 1.67GiB\n",
    "2018-08-10 08:04:43.129490: I tensorflow/core/common_runtime/gpu/gpu_device.cc:1471] Adding visible gpu devices: 0\n",
    "2018-08-10 08:04:43.890402: I tensorflow/core/common_runtime/gpu/gpu_device.cc:952] Device interconnect StreamExecutor with strength 1 edge matrix:\n",
    "2018-08-10 08:04:43.890438: I tensorflow/core/common_runtime/gpu/gpu_device.cc:958]      0 \n",
    "2018-08-10 08:04:43.890446: I tensorflow/core/common_runtime/gpu/gpu_device.cc:971] 0:   N \n",
    "2018-08-10 08:04:43.890590: I tensorflow/core/common_runtime/gpu/gpu_device.cc:1084] Created TensorFlow device (/job:localhost/replica:0/task:0/device:GPU:0 with 1425 MB memory) -> physical GPU (device: 0, name: GeForce GT 1030, pci bus id: 0000:09:00.0, compute capability: 6.1)\n",
    "\n",
    "Device mapping:\n",
    "/job:localhost/replica:0/task:0/device:GPU:0 -> device: 0, name: GeForce GT 1030, pci bus id: 0000:09:00.0, compute capability: 6.1\n",
    "2018-08-10 08:04:43.906578: I tensorflow/core/common_runtime/direct_session.cc:288] Device mapping:\n",
    "/job:localhost/replica:0/task:0/device:GPU:0 -> device: 0, name: GeForce GT 1030, pci bus id: 0000:09:00.0, compute capability: 6.1\n",
    "\n",
    "MatMul: (MatMul): /job:localhost/replica:0/task:0/device:GPU:0\n",
    "2018-08-10 08:04:43.908544: I tensorflow/core/common_runtime/placer.cc:886] MatMul: (MatMul)/job:localhost/replica:0/task:0/device:GPU:0\n",
    "a: (Const): /job:localhost/replica:0/task:0/device:GPU:0\n",
    "2018-08-10 08:04:43.908560: I tensorflow/core/common_runtime/placer.cc:886] a: (Const)/job:localhost/replica:0/task:0/device:GPU:0\n",
    "b: (Const): /job:localhost/replica:0/task:0/device:GPU:0\n",
    "2018-08-10 08:04:43.908568: I tensorflow/core/common_runtime/placer.cc:886] b: (Const)/job:localhost/replica:0/task:0/device:GPU:0\n"
   ]
  },
  {
   "cell_type": "markdown",
   "metadata": {},
   "source": [
    "## ERRORS:\n"
   ]
  },
  {
   "cell_type": "markdown",
   "metadata": {},
   "source": [
    "\n",
    "Blas GEMM launch failed\n",
    "\n",
    "Make sure you have no other processes using the GPU running. Run nvidia-smi to check this.  - Two notebooks with GPU usage can not run in the same time"
   ]
  },
  {
   "cell_type": "markdown",
   "metadata": {},
   "source": [
    "Gpu sync failed - check example below \n",
    "\n",
    "Solution based on posts:\n",
    "\n",
    "https://yangcha.github.io/CUDA90/\n",
    "\n",
    "https://stackoverflow.com/questions/51112126/gpu-sync-failed-while-using-tensorflow\n",
    "\n",
    "https://docs.nvidia.com/deeplearning/sdk/cudnn-install/index.html#download\n",
    "    \n",
    "Following install should solve problem"
   ]
  },
  {
   "cell_type": "code",
   "execution_count": 4,
   "metadata": {},
   "outputs": [
    {
     "name": "stdout",
     "output_type": "stream",
     "text": [
      "a=2, b=3\n",
      "Addition with constants: 5\n"
     ]
    }
   ],
   "source": [
    "import tensorflow as tf\n",
    "a = tf.constant(2)\n",
    "b = tf.constant(3)\n",
    "\n",
    "\n",
    "with tf.Session() as sess:\n",
    "    print(\"a=2, b=3\")\n",
    "    print(\"Addition with constants: %i\" % sess.run(a+b))"
   ]
  }
 ],
 "metadata": {
  "kernelspec": {
   "display_name": "py3.6_tf",
   "language": "python",
   "name": "py3.6_tf"
  },
  "language_info": {
   "codemirror_mode": {
    "name": "ipython",
    "version": 3
   },
   "file_extension": ".py",
   "mimetype": "text/x-python",
   "name": "python",
   "nbconvert_exporter": "python",
   "pygments_lexer": "ipython3",
   "version": "3.6.4"
  }
 },
 "nbformat": 4,
 "nbformat_minor": 2
}
