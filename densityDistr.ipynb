{
 "cells": [
  {
   "cell_type": "code",
   "execution_count": 1,
   "metadata": {
    "collapsed": true
   },
   "outputs": [],
   "source": [
    "import numpy as np\n",
    "import matplotlib.pyplot as plt\n",
    "from scipy.stats import gaussian_kde\n",
    "\n",
    "%matplotlib inline"
   ]
  },
  {
   "cell_type": "code",
   "execution_count": 2,
   "metadata": {},
   "outputs": [
    {
     "name": "stdout",
     "output_type": "stream",
     "text": [
      "(10000,)\n"
     ]
    }
   ],
   "source": [
    "rows = 10000\n",
    "sd = .7\n",
    "ar0 = np.random.normal(loc=0., scale=sd, size=(rows,))\n",
    "\n",
    "# print(ar0.size)\n",
    "print(ar0.shape)\n",
    "\n",
    "ar1 = np.random.normal(loc=2.7, scale=sd, size=(rows,))\n",
    "\n",
    "xs = np.linspace(-4, 6, 200)\n"
   ]
  },
  {
   "cell_type": "code",
   "execution_count": 3,
   "metadata": {
    "collapsed": true
   },
   "outputs": [],
   "source": [
    "density0 = gaussian_kde(ar0)\n",
    "density1 = gaussian_kde(ar1)\n",
    "\n",
    "density0.covariance_factor = lambda : .7  # to calculate bandwidth\n",
    "density0._compute_covariance()\n",
    "\n",
    "density1.covariance_factor = lambda : .7\n",
    "density1._compute_covariance()"
   ]
  },
  {
   "cell_type": "code",
   "execution_count": 4,
   "metadata": {
    "collapsed": true
   },
   "outputs": [],
   "source": [
    "x0 = 1.45\n",
    "y0_min = 0\n",
    "y0_max = 0.4\n",
    "\n",
    "x1 = 3.1"
   ]
  },
  {
   "cell_type": "code",
   "execution_count": 22,
   "metadata": {},
   "outputs": [
    {
     "data": {
      "image/png": "[encoded data removed]",
      "text/plain": [
       "<matplotlib.figure.Figure at 0x7f82b1f620f0>"
      ]
     },
     "metadata": {},
     "output_type": "display_data"
    }
   ],
   "source": [
    "plt.plot(xs,density0(xs))\n",
    "plt.plot(xs,density1(xs))\n",
    "plt.axis(\"off\")\n",
    "# plt.show()\n",
    "\n",
    "plt.legend(['Blank signal distribution', 'Signal distribution'], loc = \"upper left\", bbox_to_anchor = (0.5,0))\n",
    "\n",
    "#draw line\n",
    "plt.plot([x0, x0], [y0_min, y0_max], \"k\" ,lw=3)\n",
    "plt.plot([x1, x1], [y0_min, y0_max], \"g\" ,lw=3)\n",
    "plt.plot([ar0.mean(), ar0.mean()], [y0_min, y0_max], \"b\" ,lw=3)\n",
    "\n",
    "# fig = plt.figure()\n",
    "# ax = fig.add_subplot(111)\n",
    "\n",
    "ax.text(0, 0.1, 'colored text in axes coords',\n",
    "        verticalalignment='bottom', horizontalalignment='right',\n",
    "        transform=ax.transAxes,\n",
    "        color='green', fontsize=15)\n",
    "\n",
    "plt.savefig(\"gausses.png\", dpi = 300)"
   ]
  }
 ],
 "metadata": {
  "kernelspec": {
   "display_name": "Python 3",
   "language": "python",
   "name": "python3"
  },
  "language_info": {
   "codemirror_mode": {
    "name": "ipython",
    "version": 3
   },
   "file_extension": ".py",
   "mimetype": "text/x-python",
   "name": "python",
   "nbconvert_exporter": "python",
   "pygments_lexer": "ipython3",
   "version": "3.6.3"
  }
 },
 "nbformat": 4,
 "nbformat_minor": 2
}
