{
 "cells": [
  {
   "cell_type": "code",
   "execution_count": 39,
   "id": "fc8686d5-f037-400a-a486-02c5d3356f92",
   "metadata": {},
   "outputs": [],
   "source": [
    "from PIL import Image\n",
    "import cv2 as cv\n",
    "import numpy as np\n",
    "from matplotlib import cm"
   ]
  },
  {
   "cell_type": "code",
   "execution_count": 19,
   "id": "c6f863b0-98d9-4628-94cc-5692c0bebdc1",
   "metadata": {},
   "outputs": [],
   "source": [
    "img1 = Image.open(\"SCANFIL01__0__709408/J1/negative/724631_J1_12_J1_12.jpg\")"
   ]
  },
  {
   "cell_type": "code",
   "execution_count": 20,
   "id": "1d7deaee-ec69-4df6-b71c-393c4b8adcee",
   "metadata": {},
   "outputs": [],
   "source": [
    "img = Image.open(\"SCANFIL01__0__709409/J2/positive/709691_J2_10_J2_10.jpg\")"
   ]
  },
  {
   "cell_type": "code",
   "execution_count": 21,
   "id": "e2737b58-e11a-4121-b5ef-47a49e26e55b",
   "metadata": {},
   "outputs": [],
   "source": [
    "img2 = Image.open(\"SCANFIL01__0__709409/J2/negative/710513_J2_19_J2_19.jpg\")"
   ]
  },
  {
   "cell_type": "code",
   "execution_count": 16,
   "id": "759e64f5-a800-4464-aa0e-10efdc305380",
   "metadata": {},
   "outputs": [
    {
     "data": {
      "image/png": "[encoded data removed]",
      "text/plain": [
       "<PIL.JpegImagePlugin.JpegImageFile image mode=RGB size=28x37>"
      ]
     },
     "execution_count": 16,
     "metadata": {},
     "output_type": "execute_result"
    }
   ],
   "source": [
    "img"
   ]
  },
  {
   "cell_type": "code",
   "execution_count": 17,
   "id": "c888a609-ca38-4dd4-bac8-670674931189",
   "metadata": {},
   "outputs": [
    {
     "data": {
      "image/png": "[encoded data removed]",
      "text/plain": [
       "<PIL.Image.Image image mode=RGB size=64x64>"
      ]
     },
     "execution_count": 17,
     "metadata": {},
     "output_type": "execute_result"
    }
   ],
   "source": [
    "img.resize((64, 64))"
   ]
  },
  {
   "cell_type": "code",
   "execution_count": 14,
   "id": "90a6d36b-f4f1-4cba-ad59-82f5188292af",
   "metadata": {},
   "outputs": [
    {
     "data": {
      "image/png": "[encoded data removed]",
      "text/plain": [
       "<PIL.Image.Image image mode=RGB size=64x64>"
      ]
     },
     "execution_count": 14,
     "metadata": {},
     "output_type": "execute_result"
    }
   ],
   "source": [
    "img.resize((64, 64))"
   ]
  },
  {
   "cell_type": "code",
   "execution_count": null,
   "id": "a61f11d3-9464-427b-a835-49f2d1846fec",
   "metadata": {},
   "outputs": [],
   "source": []
  },
  {
   "cell_type": "code",
   "execution_count": 25,
   "id": "a4ff1528-d2da-4180-b206-5f143e8bbce2",
   "metadata": {},
   "outputs": [],
   "source": [
    "new_image = Image.new('RGB',(64, 64), (255,255,255))\n",
    "new_image.paste(img1.resize((64, 64)),(0,0))\n",
    "new_image.paste(img2.resize((64, 64)),(0,0),)\n",
    "new_image.show()"
   ]
  },
  {
   "cell_type": "code",
   "execution_count": 28,
   "id": "30218b8c-a56f-4686-8a08-ff632003106b",
   "metadata": {},
   "outputs": [],
   "source": [
    "arr1 = cv.imread(\"SCANFIL01__0__709408/J1/negative/724631_J1_12_J1_12.jpg\")\n",
    "arr2 = cv.imread(\"SCANFIL01__0__709409/J2/negative/710513_J2_19_J2_19.jpg\")"
   ]
  },
  {
   "cell_type": "code",
   "execution_count": 29,
   "id": "31d58439-09d1-45cf-9222-0c7577700058",
   "metadata": {},
   "outputs": [],
   "source": [
    "arr1 = cv.resize(arr1, (64, 64))\n",
    "arr2 = cv.resize(arr2, (64, 64))"
   ]
  },
  {
   "cell_type": "code",
   "execution_count": 61,
   "id": "8f043d85-7be9-4aee-a5bc-853bc04b9759",
   "metadata": {},
   "outputs": [],
   "source": [
    "alpha = 0.5\n",
    "arr3 = np.uint8(alpha*arr1 + arr2*(1-alpha))\n",
    "# cv.imshow(arr3)"
   ]
  },
  {
   "cell_type": "code",
   "execution_count": 62,
   "id": "4fce300b-03b4-4f37-ab56-5744fd157efa",
   "metadata": {},
   "outputs": [
    {
     "data": {
      "text/plain": [
       "62"
      ]
     },
     "execution_count": 62,
     "metadata": {},
     "output_type": "execute_result"
    }
   ],
   "source": [
    "arr3.ravel().min()"
   ]
  },
  {
   "cell_type": "code",
   "execution_count": 63,
   "id": "84ad6ff2-98a1-4871-96b4-74857b3a1c31",
   "metadata": {},
   "outputs": [
    {
     "data": {
      "text/plain": [
       "145"
      ]
     },
     "execution_count": 63,
     "metadata": {},
     "output_type": "execute_result"
    }
   ],
   "source": [
    "arr3.ravel().max()"
   ]
  },
  {
   "cell_type": "code",
   "execution_count": 64,
   "id": "cefbe8d6-38d5-4619-ac0b-3ef77eb4865a",
   "metadata": {},
   "outputs": [],
   "source": [
    "im = Image.fromarray(np.uint8(arr3)).convert('RGB')"
   ]
  },
  {
   "cell_type": "code",
   "execution_count": 65,
   "id": "4dc4014e-cdda-4027-8aa3-d9bca3f73f45",
   "metadata": {},
   "outputs": [
    {
     "data": {
      "image/png": "[encoded data removed]",
      "text/plain": [
       "<PIL.Image.Image image mode=RGB size=64x64>"
      ]
     },
     "execution_count": 65,
     "metadata": {},
     "output_type": "execute_result"
    }
   ],
   "source": [
    "im"
   ]
  },
  {
   "cell_type": "code",
   "execution_count": null,
   "id": "e4f6f1b3-8ece-43bf-94b7-2f625d3df0de",
   "metadata": {},
   "outputs": [],
   "source": []
  }
 ],
 "metadata": {
  "kernelspec": {
   "display_name": "venv_p39_temp",
   "language": "python",
   "name": "venv_p39_temp"
  },
  "language_info": {
   "codemirror_mode": {
    "name": "ipython",
    "version": 3
   },
   "file_extension": ".py",
   "mimetype": "text/x-python",
   "name": "python",
   "nbconvert_exporter": "python",
   "pygments_lexer": "ipython3",
   "version": "3.9.17"
  }
 },
 "nbformat": 4,
 "nbformat_minor": 5
}
