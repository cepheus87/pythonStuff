import torch
import numpy as np


x = torch.arange(4).view(2, 2)
x


x.shape


x.rot90(1, [0,1])


x.rot90(2, [0,1])


x = torch.arange(8).view(2, 2, 2)
x


torch.rot90(x, 1, [1, 2])


torch.empty(0)


z = torch.zeros(4)
z


torch.nonzero(z == 0)


x2 = torch.from_numpy(np.array([0,1,1,0,1]))


torch.nonzero(x2 == 0)


torch.argmax(x)


x


x.data



